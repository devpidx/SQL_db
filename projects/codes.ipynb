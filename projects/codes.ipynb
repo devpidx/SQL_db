{
 "cells": [
  {
   "cell_type": "markdown",
   "metadata": {},
   "source": [
    "Base URL:\n",
    "pidx.org/api/v1/product-codes\n",
    "\n",
    "Full query:\n",
    "pidx.org/api/v1/product-codes/all\n",
    "\n",
    "Arguments:\n",
    "1. Code (“/code“)\n",
    "2. Product Definition - (“/prod-def”)\n",
    "3. Description - (“/description/“)\n",
    "4. Requester - (“/requestor/“)\n",
    "5. Centance/Octance - (\"/cetane-octance/\")"
   ]
  },
  {
   "cell_type": "code",
   "execution_count": 5,
   "metadata": {},
   "outputs": [],
   "source": [
    " # SQLAlchemy\n",
    "import sqlalchemy\n",
    "from sqlalchemy.ext.automap import automap_base\n",
    "from sqlalchemy.orm import Session\n",
    "from sqlalchemy import create_engine, func\n",
    "import pandas as pd\n",
    "\n",
    "# Path to sqlite\n",
    "database_path = \"product_codes.db\""
   ]
  },
  {
   "cell_type": "code",
   "execution_count": 6,
   "metadata": {},
   "outputs": [],
   "source": [
    "# Create an engine that can talk to the database\n",
    "engine = create_engine(f\"sqlite:///{database_path}\")"
   ]
  },
  {
   "cell_type": "code",
   "execution_count": null,
   "metadata": {},
   "outputs": [],
   "source": [
    " # Query All Records in the the Database\n",
    "data = engine.execute(\"SELECT * FROM product_codes_tb\")\n",
    "\n",
    "for record in data:\n",
    "    print(record)\n",
    "    # note how you can use . notation to extract specific columns\n",
    "    print(record.code)"
   ]
  },
  {
   "cell_type": "code",
   "execution_count": null,
   "metadata": {},
   "outputs": [],
   "source": []
  }
 ],
 "metadata": {
  "kernelspec": {
   "display_name": "Python 3",
   "language": "python",
   "name": "python3"
  },
  "language_info": {
   "codemirror_mode": {
    "name": "ipython",
    "version": 3
   },
   "file_extension": ".py",
   "mimetype": "text/x-python",
   "name": "python",
   "nbconvert_exporter": "python",
   "pygments_lexer": "ipython3",
   "version": "3.7.4"
  }
 },
 "nbformat": 4,
 "nbformat_minor": 4
}
